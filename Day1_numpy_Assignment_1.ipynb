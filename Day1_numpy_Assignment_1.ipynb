{
 "cells": [
  {
   "cell_type": "markdown",
   "id": "3699ed8e-94f5-4877-901a-0fc851d5609e",
   "metadata": {},
   "source": [
    "## 1. Write a NumPy program to create an array with the values 1, 7, 13, 105    and determine the size of the memory occupied by the array.\n"
   ]
  },
  {
   "cell_type": "code",
   "execution_count": 29,
   "id": "45ff2e50-3eb0-479d-bdac-8200d8ab7af9",
   "metadata": {},
   "outputs": [],
   "source": [
    "import numpy as np"
   ]
  },
  {
   "cell_type": "code",
   "execution_count": 30,
   "id": "f94e9819-d55b-49b1-910e-ab435d0f4cdd",
   "metadata": {},
   "outputs": [
    {
     "name": "stdout",
     "output_type": "stream",
     "text": [
      "Size = 4\n"
     ]
    }
   ],
   "source": [
    "arr = np.array([1,7,13,105])\n",
    "print(f\"Size = {arr.size}\")"
   ]
  },
  {
   "cell_type": "markdown",
   "id": "ab6aaaf5-7dad-4a32-865f-8eff941b83b0",
   "metadata": {},
   "source": [
    "## 2. Write a NumPy program to create an element-wise comparison (greater,    greater_equal, less and less_equal) of two given arrays."
   ]
  },
  {
   "cell_type": "code",
   "execution_count": 31,
   "id": "1f6015db-efb1-43d7-9743-05078a2d2e0a",
   "metadata": {},
   "outputs": [],
   "source": [
    "def function1():\n",
    "    arr1 = np.array([11,5])\n",
    "    arr2 = np.array([10,55])\n",
    "    #print(\"Comparison - greater\")\n",
    "    print(f\"Greater = {np.greater(arr1, arr2)}\")\n",
    "    print(f\"Greater_Equal = {np.greater_equal(arr1,arr2)}\")\n",
    "    print(f\"Less ={np.less(arr1, arr2)}\")\n",
    "    print(f\"Less_Equal = {np.less_equal(arr1,arr2)}\")"
   ]
  },
  {
   "cell_type": "code",
   "execution_count": 32,
   "id": "79e090dc-ad25-457d-b1d8-1973bc590c01",
   "metadata": {},
   "outputs": [
    {
     "name": "stdout",
     "output_type": "stream",
     "text": [
      "Greater = [ True False]\n",
      "Greater_Equal = [ True False]\n",
      "Less =[False  True]\n",
      "Less_Equal = [False  True]\n"
     ]
    }
   ],
   "source": [
    "function1()"
   ]
  },
  {
   "cell_type": "markdown",
   "id": "27c1dfee-8a97-44bf-9153-b9976ba4df4e",
   "metadata": {},
   "source": [
    "## 3.  Write a NumPy program to create an array of 10 zeros, 10 ones, 10    fives, 10 tens, 10 twentys and 10 fiftys."
   ]
  },
  {
   "cell_type": "code",
   "execution_count": 33,
   "id": "dbdcf5a0-98b0-4347-8f95-93626f90c9ec",
   "metadata": {},
   "outputs": [
    {
     "name": "stdout",
     "output_type": "stream",
     "text": [
      "10 Zeros = [0. 0. 0. 0. 0. 0. 0. 0. 0. 0.]\n",
      "10 Ones = [1. 1. 1. 1. 1. 1. 1. 1. 1. 1.]\n",
      "10 Fives = [5. 5. 5. 5. 5. 5. 5. 5. 5. 5.]\n",
      "10 Tens = [10. 10. 10. 10. 10. 10. 10. 10. 10. 10.]\n",
      "10 Twentys = [20. 20. 20. 20. 20. 20. 20. 20. 20. 20.]\n",
      "10 Fiftys = [50. 50. 50. 50. 50. 50. 50. 50. 50. 50.]\n"
     ]
    }
   ],
   "source": [
    "\n",
    "arr1 = np.zeros(10)\n",
    "print(f\"10 Zeros = {arr1}\")\n",
    "\n",
    "arr2 = np.ones(10)\n",
    "print(f\"10 Ones = {arr2}\")\n",
    "\n",
    "arr3 = np.ones(10)*5\n",
    "print(f\"10 Fives = {arr3}\")\n",
    "\n",
    "arr4 = np.ones(10)*10\n",
    "print(f\"10 Tens = {arr4}\")\n",
    "\n",
    "arr5 = np.ones(10)*20\n",
    "print(f\"10 Twentys = {arr5}\")\n",
    "\n",
    "arr6 = np.ones(10)*50\n",
    "print(f\"10 Fiftys = {arr6}\")\n",
    "\n"
   ]
  },
  {
   "cell_type": "markdown",
   "id": "c10d3be5-63dd-4f93-82ac-da06113caac3",
   "metadata": {},
   "source": [
    "## 4. Write a NumPy program to create an array of integers from 30 to 70."
   ]
  },
  {
   "cell_type": "code",
   "execution_count": 34,
   "id": "c268dd2d-a400-4f15-b597-075b7073f3a3",
   "metadata": {},
   "outputs": [
    {
     "name": "stdout",
     "output_type": "stream",
     "text": [
      "[30 31 32 33 34 35 36 37 38 39 40 41 42 43 44 45 46 47 48 49 50 51 52 53\n",
      " 54 55 56 57 58 59 60 61 62 63 64 65 66 67 68 69 70]\n"
     ]
    }
   ],
   "source": [
    "arr = np.arange(30,71)\n",
    "print(arr)"
   ]
  },
  {
   "cell_type": "markdown",
   "id": "8649d650-b091-4e9c-ac89-12a0b1557b3a",
   "metadata": {},
   "source": [
    "## 5. Write a NumPy program to create an array of integers from 50 to 95."
   ]
  },
  {
   "cell_type": "code",
   "execution_count": 35,
   "id": "08f8815e-f49e-4b52-ab78-96724a6e409e",
   "metadata": {},
   "outputs": [
    {
     "name": "stdout",
     "output_type": "stream",
     "text": [
      "[50 51 52 53 54 55 56 57 58 59 60 61 62 63 64 65 66 67 68 69 70 71 72 73\n",
      " 74 75 76 77 78 79 80 81 82 83 84 85 86 87 88 89 90 91 92 93 94 95]\n"
     ]
    }
   ],
   "source": [
    "arr = np.arange(50,96)\n",
    "print(arr)"
   ]
  },
  {
   "cell_type": "markdown",
   "id": "a3b2a51c-6259-425b-9ff7-1f052caf0a1f",
   "metadata": {},
   "source": [
    "## 6. Write a NumPy program to create an array of all even integers from 20 to 80."
   ]
  },
  {
   "cell_type": "code",
   "execution_count": 36,
   "id": "552f59c2-a93b-40e5-980b-fbf29494de13",
   "metadata": {},
   "outputs": [
    {
     "name": "stdout",
     "output_type": "stream",
     "text": [
      "[20 22 24 26 28 30 32 34 36 38 40 42 44 46 48 50 52 54 56 58 60 62 64 66\n",
      " 68 70 72 74 76 78 80]\n"
     ]
    }
   ],
   "source": [
    "arr = np.arange(20,81,2)\n",
    "print(arr)"
   ]
  },
  {
   "cell_type": "markdown",
   "id": "b3f1cbe7-f8d6-40d5-8166-e83be22737d9",
   "metadata": {},
   "source": [
    "## 7. Write a NumPy program to create an array of all odd integers from 20 to 80."
   ]
  },
  {
   "cell_type": "code",
   "execution_count": 37,
   "id": "080d12da-e289-43e9-bb59-ce61c23c5a2c",
   "metadata": {},
   "outputs": [
    {
     "name": "stdout",
     "output_type": "stream",
     "text": [
      "[21 23 25 27 29 31 33 35 37 39 41 43 45 47 49 51 53 55 57 59 61 63 65 67\n",
      " 69 71 73 75 77 79]\n"
     ]
    }
   ],
   "source": [
    "arr = np.arange(21,80,2)\n",
    "print(arr)"
   ]
  },
  {
   "cell_type": "markdown",
   "id": "b55886ed-b54a-4e4a-b48f-c9a0e71133a2",
   "metadata": {},
   "source": [
    "## 8. Write a NumPy program to generate an array of 15 random numbers from 10    to 40."
   ]
  },
  {
   "cell_type": "code",
   "execution_count": 38,
   "id": "a30f566d-164c-4e26-b580-9319df661910",
   "metadata": {},
   "outputs": [
    {
     "name": "stdout",
     "output_type": "stream",
     "text": [
      "[18 34 34 24 27 27 19 18 19 33 28 11 30 39 37]\n"
     ]
    }
   ],
   "source": [
    "arr = np.random.randint(10,40,15) \n",
    "print(arr)"
   ]
  },
  {
   "cell_type": "markdown",
   "id": "5f467a00-9fb7-4568-8d0b-6501e13428e8",
   "metadata": {},
   "source": [
    "## 9. Write a NumPy program to generate an array of 10 random numbers from 30    to 50."
   ]
  },
  {
   "cell_type": "code",
   "execution_count": 39,
   "id": "440db66c-ef67-46d6-8256-9e81c226a83f",
   "metadata": {},
   "outputs": [
    {
     "name": "stdout",
     "output_type": "stream",
     "text": [
      "[38 42 45 40 39 45 48 48 34 36]\n"
     ]
    }
   ],
   "source": [
    "arr = np.random.randint(30,50,10) \n",
    "print(arr)"
   ]
  },
  {
   "cell_type": "markdown",
   "id": "29cce872-7b93-4c95-8c84-d0d2d4ba17de",
   "metadata": {},
   "source": [
    "## 10. Write a NumPy program to generate an array of 20 random numbers from 50    to 90."
   ]
  },
  {
   "cell_type": "code",
   "execution_count": 40,
   "id": "0e4eddc6-0f90-4dd6-a277-3e31f992c862",
   "metadata": {},
   "outputs": [
    {
     "name": "stdout",
     "output_type": "stream",
     "text": [
      "[83 55 74 77 68 88 86 67 68 76 67 61 76 89 83 66 81 76 72 70]\n"
     ]
    }
   ],
   "source": [
    "arr = np.random.randint(50,90,20) \n",
    "print(arr)"
   ]
  },
  {
   "cell_type": "markdown",
   "id": "359bb4d7-4698-451c-acd8-5fe1f9be27c2",
   "metadata": {},
   "source": [
    "## 11. Create any two arrays & perform various mathematical operations.\n",
    "    i.e. Addition, Substraction, Multiplication, Divide."
   ]
  },
  {
   "cell_type": "code",
   "execution_count": 41,
   "id": "4882b5b9-30a1-4082-b836-11fe95289599",
   "metadata": {},
   "outputs": [
    {
     "name": "stdout",
     "output_type": "stream",
     "text": [
      "Addition = [ 65  47 128]\n",
      "Substraction = [43  3 62]\n",
      "Multiplication = [ 594  550 3135]\n",
      "Division = [4.90909091 1.13636364 2.87878788]\n"
     ]
    }
   ],
   "source": [
    "arr1 = np.array([54,25,95])\n",
    "arr2 = np.array([11,22,33])\n",
    "print(f\"Addition = {arr1+arr2}\")\n",
    "print(f\"Substraction = {arr1-arr2}\")\n",
    "print(f\"Multiplication = {arr1*arr2}\")\n",
    "print(f\"Division = {arr1/arr2}\")"
   ]
  },
  {
   "cell_type": "markdown",
   "id": "f2eddf17-9a19-4f60-a498-249f287e6a8d",
   "metadata": {},
   "source": [
    "## 12. Write a NumPy program to create a 3x4 matrix filled with values from 10     to 21."
   ]
  },
  {
   "cell_type": "code",
   "execution_count": 42,
   "id": "502b3c68-3aad-487f-9c86-32cd10b2bb61",
   "metadata": {},
   "outputs": [
    {
     "name": "stdout",
     "output_type": "stream",
     "text": [
      "3x4 Matrix :\n",
      "[[10 11 12 13]\n",
      " [14 15 16 17]\n",
      " [18 19 20 21]]\n"
     ]
    }
   ],
   "source": [
    "a = np.arange(10, 22).reshape((3, 4))\n",
    "print(f\"3x4 Matrix :\")\n",
    "print(a)"
   ]
  },
  {
   "cell_type": "markdown",
   "id": "d9fa9748-a76a-4d2f-9f23-643327bc6f79",
   "metadata": {},
   "source": [
    "## 13. Write a NumPy program to create a 3x3 identity matrix, i.e. the diagonal     elements are 1, the rest are 0."
   ]
  },
  {
   "cell_type": "code",
   "execution_count": 43,
   "id": "bd288a3f-d698-4a8f-bf64-bb1eb252379a",
   "metadata": {},
   "outputs": [
    {
     "name": "stdout",
     "output_type": "stream",
     "text": [
      "3x3 Matrix :\n",
      "[[1 0 0]\n",
      " [0 1 0]\n",
      " [0 0 1]]\n"
     ]
    }
   ],
   "source": [
    "x = np.diag([1, 1, 1])\n",
    "print(f\"3x3 Matrix :\")\n",
    "print(x)"
   ]
  },
  {
   "cell_type": "markdown",
   "id": "3f2305da-cf6d-4be8-8d95-4aec47fbe24b",
   "metadata": {},
   "source": [
    "## 14. Write a NumPy program to find the number of rows and columns in a given     matrix. "
   ]
  },
  {
   "cell_type": "code",
   "execution_count": 44,
   "id": "c0914825-7eb5-4111-b399-778c89da4cbe",
   "metadata": {},
   "outputs": [
    {
     "name": "stdout",
     "output_type": "stream",
     "text": [
      "Number of rows and columns =(3, 4)\n"
     ]
    }
   ],
   "source": [
    "a = np.arange(10, 22).reshape((3, 4))\n",
    "print(f\"Number of rows and columns ={a.shape}\")"
   ]
  },
  {
   "cell_type": "markdown",
   "id": "2013b23a-3d67-406a-883d-79f3f80d981c",
   "metadata": {},
   "source": [
    "## 15. Write a NumPy program to create a 5x5 zero matrix with elements on the     main diagonal equal to 1, 2, 3, 4, 5."
   ]
  },
  {
   "cell_type": "code",
   "execution_count": 45,
   "id": "7b4a6f91-3fee-49f1-8247-9dcc88acce71",
   "metadata": {},
   "outputs": [
    {
     "name": "stdout",
     "output_type": "stream",
     "text": [
      "5x5 Zero Matrix :\n",
      "[[1 0 0 0 0]\n",
      " [0 2 0 0 0]\n",
      " [0 0 3 0 0]\n",
      " [0 0 0 4 0]\n",
      " [0 0 0 0 5]]\n"
     ]
    }
   ],
   "source": [
    "x = np.diag([1, 2, 3, 4, 5])\n",
    "print(f\"5x5 Zero Matrix :\")\n",
    "print(x)"
   ]
  },
  {
   "cell_type": "markdown",
   "id": "5b6237a7-5470-41c7-b542-51669522b519",
   "metadata": {},
   "source": [
    "## 16. Write a NumPy program to create a 3x3x3 array filled with arbitrary     values."
   ]
  },
  {
   "cell_type": "code",
   "execution_count": 46,
   "id": "e14b8611-e61a-449f-833c-98c19b669a63",
   "metadata": {},
   "outputs": [
    {
     "name": "stdout",
     "output_type": "stream",
     "text": [
      "3x3 Array :\n",
      "[[[0.72082349 0.70033647 0.26020983]\n",
      "  [0.33687634 0.46814094 0.60515987]\n",
      "  [0.10362058 0.23132519 0.92300171]]\n",
      "\n",
      " [[0.89959658 0.35948926 0.56796354]\n",
      "  [0.01686987 0.51201863 0.95557815]\n",
      "  [0.57851806 0.0419802  0.73116365]]\n",
      "\n",
      " [[0.31918295 0.88891975 0.78100492]\n",
      "  [0.76929326 0.25703523 0.38808594]\n",
      "  [0.12418905 0.0986923  0.96881295]]]\n"
     ]
    }
   ],
   "source": [
    "x = np.random.random((3, 3, 3))\n",
    "print(f\"3x3 Array :\")\n",
    "print(x)"
   ]
  },
  {
   "cell_type": "markdown",
   "id": "43fa4071-ae14-44ca-8679-b8cb63c27661",
   "metadata": {},
   "source": [
    "## 17. Write a NumPy program to create a 2x3x4 array filled with arbitrary     values."
   ]
  },
  {
   "cell_type": "code",
   "execution_count": 47,
   "id": "9f1219dc-224e-48c9-9883-314d0a6188ac",
   "metadata": {},
   "outputs": [
    {
     "name": "stdout",
     "output_type": "stream",
     "text": [
      "2x3x4 Array: [[[0.69841631 0.24856942 0.29442974 0.00768071]\n",
      "  [0.98033964 0.52074182 0.97334293 0.06904569]\n",
      "  [0.62939817 0.2310782  0.53593843 0.58031943]]\n",
      "\n",
      " [[0.99472699 0.68448284 0.92215713 0.74593205]\n",
      "  [0.23433649 0.8070411  0.82097795 0.09523949]\n",
      "  [0.29875162 0.78674537 0.29008356 0.91289959]]]\n"
     ]
    }
   ],
   "source": [
    "arr=np.random.random((2,3,4))\n",
    "print(f\"2x3x4 Array: {arr}\")"
   ]
  },
  {
   "cell_type": "markdown",
   "id": "7d7a950d-5782-44db-866a-8dcff517b2fe",
   "metadata": {},
   "source": [
    "## 18. Write a NumPy program to convert a list of numeric values into a one-    dimensional NumPy array."
   ]
  },
  {
   "cell_type": "code",
   "execution_count": 48,
   "id": "c89b1d25-0ce9-49d2-8ad0-4d8fa782079b",
   "metadata": {},
   "outputs": [
    {
     "name": "stdout",
     "output_type": "stream",
     "text": [
      "[ 12.23  13.32 100.    36.32]\n"
     ]
    }
   ],
   "source": [
    "l = [12.23, 13.32, 100, 36.32]\n",
    "a = np.array(l)\n",
    "print(a)"
   ]
  },
  {
   "cell_type": "markdown",
   "id": "34cb4f16-9c52-4dce-9998-f7d79e629f3e",
   "metadata": {},
   "source": [
    "## 19. Write a NumPy program to create a 3x3 matrix with values ranging from 2     to 10."
   ]
  },
  {
   "cell_type": "code",
   "execution_count": 49,
   "id": "f90edc4b-b738-435e-9560-20d5bfe2cc10",
   "metadata": {},
   "outputs": [
    {
     "name": "stdout",
     "output_type": "stream",
     "text": [
      "3x3 matrix with values ranging from 2 to 10\n",
      "[[ 2  3  4]\n",
      " [ 5  6  7]\n",
      " [ 8  9 10]]\n"
     ]
    }
   ],
   "source": [
    "x = np.arange(2, 11).reshape(3, 3)\n",
    "print(f\"3x3 matrix with values ranging from 2 to 10\")\n",
    "print(x)"
   ]
  },
  {
   "cell_type": "markdown",
   "id": "2b513e05-ae42-4e6b-a466-0f55316798b7",
   "metadata": {},
   "source": [
    "## 20. Write a NumPy program to create an array with values ranging from 12 to 38."
   ]
  },
  {
   "cell_type": "code",
   "execution_count": 50,
   "id": "7ad0ffae-a4bd-4408-be63-0eb2989a8ebb",
   "metadata": {},
   "outputs": [
    {
     "name": "stdout",
     "output_type": "stream",
     "text": [
      "[12 13 14 15 16 17 18 19 20 21 22 23 24 25 26 27 28 29 30 31 32 33 34 35\n",
      " 36 37]\n"
     ]
    }
   ],
   "source": [
    "arr = np.arange(12,38)\n",
    "print(arr)"
   ]
  },
  {
   "cell_type": "markdown",
   "id": "22156a32-2f13-4ae4-86c1-2e3125cca85c",
   "metadata": {},
   "source": [
    "## 21. Write a NumPy program to reverse an array (the first element becomes the last)."
   ]
  },
  {
   "cell_type": "code",
   "execution_count": 51,
   "id": "a9d78bb5-a663-4cfc-8d80-ca676c7e475b",
   "metadata": {},
   "outputs": [
    {
     "name": "stdout",
     "output_type": "stream",
     "text": [
      "Reverse = [65 33 82 22 95 25 54]\n"
     ]
    }
   ],
   "source": [
    "arr = np.array([54,25,95,22,82,33,65])\n",
    "print(f\"Reverse = {arr[::-1]}\")"
   ]
  },
  {
   "cell_type": "markdown",
   "id": "79131b8b-fc23-4b22-868e-ccb86044deb5",
   "metadata": {},
   "source": [
    "## 22. Write a NumPy program to convert an data type into to a floating type."
   ]
  },
  {
   "cell_type": "code",
   "execution_count": 52,
   "id": "9322926f-7217-4e69-859a-575f84970575",
   "metadata": {},
   "outputs": [
    {
     "name": "stdout",
     "output_type": "stream",
     "text": [
      "[1. 2. 3. 4.]\n"
     ]
    }
   ],
   "source": [
    "a = [1, 2, 3, 4]\n",
    "b = np.asfarray(a)\n",
    "print(b) \n"
   ]
  },
  {
   "cell_type": "markdown",
   "id": "9aae6cad-90c5-4eb0-8b96-fe8c4990bd68",
   "metadata": {},
   "source": [
    "## 23. Write a NumPy program to convert a list array."
   ]
  },
  {
   "cell_type": "code",
   "execution_count": 53,
   "id": "9adf3c9d-7bef-48a7-8920-a2bac9987b55",
   "metadata": {},
   "outputs": [
    {
     "name": "stdout",
     "output_type": "stream",
     "text": [
      "List :[1, 7, 0, 6, 2, 5, 6]\n",
      "Array :[1 7 0 6 2 5 6]\n"
     ]
    }
   ],
   "source": [
    "t = [1, 7, 0, 6, 2, 5, 6]\n",
    "arr = np.array(t)\n",
    "print(f\"List :{t}\")\n",
    "print(f\"Array :{arr}\")"
   ]
  },
  {
   "cell_type": "markdown",
   "id": "baa0a146-e80b-45bc-b2cb-b51d4a391dc3",
   "metadata": {},
   "source": [
    "## 24. Write a NumPy program to get the element-wise remainder of an array of division."
   ]
  },
  {
   "cell_type": "code",
   "execution_count": 54,
   "id": "ff535747-e88b-4e51-a777-993930065b52",
   "metadata": {},
   "outputs": [
    {
     "name": "stdout",
     "output_type": "stream",
     "text": [
      "[0 1 2 3 4 5 6]\n",
      "[0 1 2 3 4 0 1]\n"
     ]
    }
   ],
   "source": [
    "x = np.arange(7)\n",
    "print(x)\n",
    "# Computing the element-wise remainder of division by 5 and displaying the result\n",
    "y = np.remainder(x,5) \n",
    "print(y)"
   ]
  },
  {
   "cell_type": "markdown",
   "id": "a93bc9aa-6a6d-435c-b8f4-4babd8ce9f99",
   "metadata": {},
   "source": [
    "## 25. Write a NumPy program to get the element-wise remainder of an array of numbers from 20 to 50 which are divisible by 3."
   ]
  },
  {
   "cell_type": "code",
   "execution_count": 55,
   "id": "98a96f80-952f-4d9f-a34b-066d26562142",
   "metadata": {},
   "outputs": [
    {
     "name": "stdout",
     "output_type": "stream",
     "text": [
      "Remainder= [2 0 1 2 0 1 2 0 1 2 0 1 2 0 1 2 0 1 2 0 1 2 0 1 2 0 1 2 0 1]\n"
     ]
    }
   ],
   "source": [
    "arr1=np.arange(20,50)\n",
    "print(f\"Remainder= {arr1%3}\")"
   ]
  },
  {
   "cell_type": "code",
   "execution_count": null,
   "id": "fd580e21-f165-43b4-aeb6-4a16483086e7",
   "metadata": {},
   "outputs": [],
   "source": []
  }
 ],
 "metadata": {
  "kernelspec": {
   "display_name": "Python 3 (ipykernel)",
   "language": "python",
   "name": "python3"
  },
  "language_info": {
   "codemirror_mode": {
    "name": "ipython",
    "version": 3
   },
   "file_extension": ".py",
   "mimetype": "text/x-python",
   "name": "python",
   "nbconvert_exporter": "python",
   "pygments_lexer": "ipython3",
   "version": "3.10.12"
  }
 },
 "nbformat": 4,
 "nbformat_minor": 5
}
